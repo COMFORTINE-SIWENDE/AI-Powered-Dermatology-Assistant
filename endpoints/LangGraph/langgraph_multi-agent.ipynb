{
 "cells": [
  {
   "cell_type": "markdown",
   "id": "618b847a",
   "metadata": {},
   "source": [
    "# LangGraph | Multi-AI Agents\n"
   ]
  },
  {
   "cell_type": "markdown",
   "id": "23a19d40",
   "metadata": {},
   "source": [
    "### A **single agent** might struggle if it needs to specialize in multiple domains or manage many tools. To tackle this, you can break your agent into smaller, independent agents and composing them into a multi-agent system.\n",
    "\n",
    "### In **multi-agent** systems, agents need to communicate between each other. They do so via handoffs — a primitive that describes which agent to hand control to and the payload to send to that agent.\n",
    "\n",
    "## Two of the most popular multi-agent architectures are:\n",
    "\n",
    "- `supervisor` — individual agents are coordinated by a central supervisor agent. The supervisor controls all communication flow and task delegation, making decisions about which agent to invoke based on the current context and task requirements.\n",
    "- `swarm` — agents dynamically hand off control to one another based on their specializations. The system remembers which agent was last active, ensuring that on subsequent interactions, the conversation resumes with that agent.\n"
   ]
  },
  {
   "cell_type": "markdown",
   "id": "eab681d6",
   "metadata": {},
   "source": [
    "## 1. Multi-Agent Supervisor\n"
   ]
  },
  {
   "cell_type": "code",
   "execution_count": 1,
   "id": "9a7a8bb1",
   "metadata": {},
   "outputs": [],
   "source": [
    "import os\n",
    "from dotenv import load_dotenv\n",
    "load_dotenv()\n",
    "# access the Azure OpenAI API credentials\n",
    "AZURE_OPENAI_API_KEY = os.getenv(\"AZURE_OPENAI_API_KEY\")\n",
    "AZURE_OPENAI_API_ENDPOINT = os.getenv(\"AZURE_OPENAI_API_ENDPOINT\")"
   ]
  },
  {
   "cell_type": "code",
   "execution_count": 2,
   "id": "786bfcad",
   "metadata": {},
   "outputs": [],
   "source": [
    "# # Configure Azure OpenAI\n",
    "api_key = AZURE_OPENAI_API_KEY\n",
    "api_endpoint = AZURE_OPENAI_API_ENDPOINT"
   ]
  },
  {
   "cell_type": "code",
   "execution_count": 3,
   "id": "6263c1e8",
   "metadata": {},
   "outputs": [],
   "source": [
    "from langchain_openai import AzureChatOpenAI\n",
    "from langgraph.prebuilt import create_react_agent\n",
    "from langgraph_supervisor import create_supervisor"
   ]
  },
  {
   "cell_type": "code",
   "execution_count": 4,
   "id": "bb1daaac",
   "metadata": {},
   "outputs": [],
   "source": [
    "llm=AzureChatOpenAI(\n",
    "        deployment_name=\"gpt-4o\",\n",
    "        openai_api_version=\"2024-12-01-preview\",\n",
    "        azure_endpoint=api_endpoint,\n",
    "        api_key=api_key\n",
    "    )"
   ]
  },
  {
   "cell_type": "code",
   "execution_count": 5,
   "id": "3cf5b013",
   "metadata": {},
   "outputs": [],
   "source": [
    "def book_hotel(hotel_name: str):\n",
    "    \"\"\"Book a hotel\"\"\"\n",
    "    return f\"Successfully booked a stay at {hotel_name}.\"\n"
   ]
  },
  {
   "cell_type": "code",
   "execution_count": 6,
   "id": "6a20774b",
   "metadata": {},
   "outputs": [],
   "source": [
    "def book_flight(from_airport: str, to_airport: str):\n",
    "    \"\"\"Book a flight\"\"\"\n",
    "    return f\"Successfully booked a flight from {from_airport} to {to_airport}.\""
   ]
  },
  {
   "cell_type": "code",
   "execution_count": 7,
   "id": "434f14da",
   "metadata": {},
   "outputs": [],
   "source": [
    "flight_assistant = create_react_agent(\n",
    "    model=llm,\n",
    "    tools=[book_flight],\n",
    "    prompt=\"You are a flight booking assistant\",\n",
    "    name=\"flight_assistant\"\n",
    ")"
   ]
  },
  {
   "cell_type": "code",
   "execution_count": 8,
   "id": "ccb30ac7",
   "metadata": {},
   "outputs": [],
   "source": [
    "hotel_assistant = create_react_agent(\n",
    "    model=llm,\n",
    "    tools=[book_hotel],\n",
    "    prompt=\"You are a hotel booking assistant\",\n",
    "    name=\"hotel_assistant\"\n",
    ")"
   ]
  },
  {
   "cell_type": "code",
   "execution_count": 9,
   "id": "5902b415",
   "metadata": {},
   "outputs": [],
   "source": [
    "supervisor = create_supervisor(\n",
    "    agents=[flight_assistant, hotel_assistant],\n",
    "    model=llm,\n",
    "    prompt=(\n",
    "        \"You manage a hotel booking assistant and a \"\n",
    "        \"flight booking assistant. Assign work to them.\"\n",
    "    )\n",
    ").compile()"
   ]
  },
  {
   "cell_type": "code",
   "execution_count": 11,
   "id": "33cd57e1",
   "metadata": {},
   "outputs": [
    {
     "name": "stdout",
     "output_type": "stream",
     "text": [
      "\n",
      "--- Messages from Supervisor ---\n",
      "None: book a flight from BOS to JFK and a stay at McKittrick Hotel\n",
      "transfer_to_flight_assistant: Successfully transferred to flight_assistant\n",
      "\n",
      "--- Messages from Flight_assistant ---\n",
      "flight_assistant: The flight from BOS (Boston Logan Airport) to JFK (John F. Kennedy Airport) has been successfully booked. \n",
      "\n",
      "However, I cannot assist with booking a stay at McKittrick Hotel. You may directly contact the hotel or use a hotel booking platform for that. Let me know if you need additional help!\n",
      "flight_assistant: Transferring back to supervisor\n",
      "transfer_back_to_supervisor: Successfully transferred back to supervisor\n",
      "\n",
      "--- Messages from Supervisor ---\n",
      "None: book a flight from BOS to JFK and a stay at McKittrick Hotel\n",
      "transfer_to_flight_assistant: Successfully transferred to flight_assistant\n",
      "flight_assistant: The flight from BOS (Boston Logan Airport) to JFK (John F. Kennedy Airport) has been successfully booked. \n",
      "\n",
      "However, I cannot assist with booking a stay at McKittrick Hotel. You may directly contact the hotel or use a hotel booking platform for that. Let me know if you need additional help!\n",
      "flight_assistant: Transferring back to supervisor\n",
      "transfer_back_to_supervisor: Successfully transferred back to supervisor\n",
      "transfer_to_hotel_assistant: Successfully transferred to hotel_assistant\n",
      "\n",
      "--- Messages from Hotel_assistant ---\n",
      "hotel_assistant: Your stay at the McKittrick Hotel has been successfully booked. Let me know if you need further assistance!\n",
      "hotel_assistant: Transferring back to supervisor\n",
      "transfer_back_to_supervisor: Successfully transferred back to supervisor\n",
      "\n",
      "--- Messages from Supervisor ---\n",
      "None: book a flight from BOS to JFK and a stay at McKittrick Hotel\n",
      "transfer_to_flight_assistant: Successfully transferred to flight_assistant\n",
      "flight_assistant: The flight from BOS (Boston Logan Airport) to JFK (John F. Kennedy Airport) has been successfully booked. \n",
      "\n",
      "However, I cannot assist with booking a stay at McKittrick Hotel. You may directly contact the hotel or use a hotel booking platform for that. Let me know if you need additional help!\n",
      "flight_assistant: Transferring back to supervisor\n",
      "transfer_back_to_supervisor: Successfully transferred back to supervisor\n",
      "transfer_to_hotel_assistant: Successfully transferred to hotel_assistant\n",
      "hotel_assistant: Your stay at the McKittrick Hotel has been successfully booked. Let me know if you need further assistance!\n",
      "hotel_assistant: Transferring back to supervisor\n",
      "transfer_back_to_supervisor: Successfully transferred back to supervisor\n",
      "supervisor: Your flight from BOS to JFK has been booked, and your stay at the McKittrick Hotel has also been successfully arranged. Let me know if there's anything else I can assist you with!\n"
     ]
    }
   ],
   "source": [
    "\n",
    "# Simulate a user request to the supervisor\n",
    "for chunk in supervisor.stream(\n",
    "    {\n",
    "        \"messages\": [\n",
    "            {\n",
    "                \"role\": \"user\",\n",
    "                \"content\": \"book a flight from BOS to JFK and a stay at McKittrick Hotel\"\n",
    "            }\n",
    "        ]\n",
    "    }\n",
    "):\n",
    "    # Check if chunk contains messages\n",
    "    for role, data in chunk.items():\n",
    "        if \"messages\" in data:\n",
    "            print(f\"\\n--- Messages from {role.capitalize()} ---\")\n",
    "            for msg in data[\"messages\"]:\n",
    "                content = getattr(msg, \"content\", None)\n",
    "                if content:\n",
    "                    print(f\"{msg.name if hasattr(msg, 'name') else 'System'}: {content}\")\n"
   ]
  },
  {
   "cell_type": "markdown",
   "id": "19c5aaf8",
   "metadata": {},
   "source": [
    "## 2.Multi-Agent Swarm\n"
   ]
  }
 ],
 "metadata": {
  "kernelspec": {
   "display_name": "venv",
   "language": "python",
   "name": "python3"
  },
  "language_info": {
   "codemirror_mode": {
    "name": "ipython",
    "version": 3
   },
   "file_extension": ".py",
   "mimetype": "text/x-python",
   "name": "python",
   "nbconvert_exporter": "python",
   "pygments_lexer": "ipython3",
   "version": "3.11.6"
  }
 },
 "nbformat": 4,
 "nbformat_minor": 5
}
